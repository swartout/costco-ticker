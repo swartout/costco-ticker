{
 "cells": [
  {
   "cell_type": "code",
   "execution_count": 102,
   "metadata": {},
   "outputs": [],
   "source": [
    "from PIL import Image, ImageDraw, ImageFont\n",
    "import requests\n",
    "from io import BytesIO\n",
    "import os\n",
    "\n",
    "def make_img(item, file_name, font_file='Menlo.ttc', folder='images/'):\n",
    "    text = item.name.upper()\n",
    "    thumbnail = item.image\n",
    "    price = item.cost\n",
    "    discount = item.discount\n",
    "    up_arrow = \"\\u2193\"\n",
    "    img = Image.new('RGB', (1200, 900))\n",
    "    r = requests.get(thumbnail, headers={\"User-Agent\":\"Mozilla/5.0\"})\n",
    "    costco_img = Image.open(BytesIO(r.content))\n",
    "    img.paste(costco_img, (100, 400))\n",
    "    draw = ImageDraw.Draw(img)\n",
    "    title_font = ImageFont.truetype(font_file, 80)\n",
    "    price_font = ImageFont.truetype(font_file, 70)\n",
    "    color = \"#FFFFFF\"\n",
    "    draw.text((100, 100), text[0:21], fill=color, font=title_font)\n",
    "    draw.text((100, 200), text[21:42], fill=color, font=title_font)\n",
    "    draw.text((500, 500), f'${price:.2f}{up_arrow}${discount:.2f}', fill=color, font=price_font)\n",
    "    # img = img.resize((1200, 900))\n",
    "    if not os.path.exists(folder):\n",
    "        os.makedirs(folder)\n",
    "    img.save(folder + file_name)"
   ]
  },
  {
   "cell_type": "code",
   "execution_count": 93,
   "metadata": {},
   "outputs": [],
   "source": [
    "from scraper import get_item, get_soup, COSTCO_URL\n",
    "\n",
    "soup = get_soup(COSTCO_URL)"
   ]
  },
  {
   "cell_type": "code",
   "execution_count": 94,
   "metadata": {},
   "outputs": [],
   "source": [
    "item = get_item(soup, 0)"
   ]
  },
  {
   "cell_type": "code",
   "execution_count": 98,
   "metadata": {},
   "outputs": [],
   "source": [
    "make_img(item, 'test_image.png')"
   ]
  },
  {
   "cell_type": "code",
   "execution_count": 103,
   "metadata": {},
   "outputs": [
    {
     "name": "stdout",
     "output_type": "stream",
     "text": [
      "images/image0.png\n",
      "images/image1.png\n",
      "images/image2.png\n",
      "images/image3.png\n",
      "images/image4.png\n",
      "images/image5.png\n",
      "images/image6.png\n",
      "images/image7.png\n",
      "images/image8.png\n",
      "images/image9.png\n",
      "images/image10.png\n",
      "images/image11.png\n",
      "images/image12.png\n",
      "images/image13.png\n",
      "images/image14.png\n",
      "images/image15.png\n",
      "images/image17.png\n",
      "images/image19.png\n",
      "images/image22.png\n",
      "images/image23.png\n"
     ]
    }
   ],
   "source": [
    "for i in range(24):\n",
    "    item = get_item(soup, i)\n",
    "    if item is not None:\n",
    "        make_img(item, f'image{i}.png')\n",
    "        print(f'images/image{i}.png')"
   ]
  },
  {
   "cell_type": "code",
   "execution_count": null,
   "metadata": {},
   "outputs": [],
   "source": []
  }
 ],
 "metadata": {
  "kernelspec": {
   "display_name": ".venv",
   "language": "python",
   "name": "python3"
  },
  "language_info": {
   "codemirror_mode": {
    "name": "ipython",
    "version": 3
   },
   "file_extension": ".py",
   "mimetype": "text/x-python",
   "name": "python",
   "nbconvert_exporter": "python",
   "pygments_lexer": "ipython3",
   "version": "3.11.7"
  }
 },
 "nbformat": 4,
 "nbformat_minor": 2
}
